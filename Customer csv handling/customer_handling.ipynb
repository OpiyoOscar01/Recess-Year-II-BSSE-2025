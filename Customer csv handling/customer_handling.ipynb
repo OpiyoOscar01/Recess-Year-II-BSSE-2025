{
 "cells": [
  {
   "cell_type": "code",
   "execution_count": null,
   "id": "b0abf6e4",
   "metadata": {},
   "outputs": [],
   "source": [
    "import pandas as pd\n",
    "import matplotlib.pyplot as plt\n",
    "from sklearn.cluster import KMeans\n",
    "import seaborn as sns\n",
    "\n",
    "# Load the data set\n",
    "df= pd.read_csv('Customer_data_records.csv')\n",
    "\n",
    "#Display the dataset\n",
    "df.head(20)"
   ]
  },
  {
   "cell_type": "code",
   "execution_count": null,
   "id": "b8ec9f75",
   "metadata": {},
   "outputs": [],
   "source": [
    "X = df[['Annual Income (k$)', 'Spending Score (1-100)']]\n"
   ]
  },
  {
   "cell_type": "code",
   "execution_count": null,
   "id": "a3cd5d09",
   "metadata": {},
   "outputs": [],
   "source": [
    "kmeans=KMeans(n_clusters=2,random_state=0)\n",
    "kmeans.fit(X) "
   ]
  },
  {
   "cell_type": "code",
   "execution_count": null,
   "id": "857f549d",
   "metadata": {},
   "outputs": [],
   "source": [
    "df['cluster']=kmeans.labels_\n",
    "df"
   ]
  },
  {
   "cell_type": "code",
   "execution_count": null,
   "id": "78743e3f",
   "metadata": {},
   "outputs": [],
   "source": [
    "plt.figure(figsize=(15,12))\n",
    "sns.scatterplot(data=df,x='Annual Income (k$)',y='Spending Score (1-100)',hue='cluster')\n",
    "\n",
    "plt.title('Customer CLusters based on Income&Spending')\n",
    "\n",
    "plt.xlabel('Annual Income (k$)')\n",
    "plt.ylabel('Spending Score (1-100)')\n",
    "plt.show()"
   ]
  }
 ],
 "metadata": {
  "language_info": {
   "name": "python"
  }
 },
 "nbformat": 4,
 "nbformat_minor": 5
}
