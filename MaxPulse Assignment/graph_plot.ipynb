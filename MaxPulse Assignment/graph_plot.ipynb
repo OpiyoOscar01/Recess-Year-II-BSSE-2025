{
 "cells": [
  {
   "cell_type": "code",
   "execution_count": null,
   "id": "60181484",
   "metadata": {},
   "outputs": [],
   "source": [
    "\n",
    "import pandas as pd\n",
    "import matplotlib.pyplot as plt\n",
    "import seaborn as sns\n",
    "\n",
    "# Load the dataset\n",
    "df = pd.read_csv('Cleaned_Mine.csv')\n",
    "\n",
    "# Set plot style\n",
    "sns.set(style=\"whitegrid\")\n",
    "\n",
    "# Plot for Maxpulse\n",
    "plt.figure(figsize=(8,5))\n",
    "sns.histplot(df['Maxpulse'].dropna(), bins=20, kde=True, color='skyblue')\n",
    "plt.title('Maxpulse Distribution')\n",
    "plt.xlabel('Maxpulse')\n",
    "plt.ylabel('Count')\n",
    "plt.show()\n",
    "\n",
    "# Plot for Calories\n",
    "plt.figure(figsize=(8,5))\n",
    "sns.histplot(df['Calories'].dropna(), bins=20, kde=True, color='salmon')\n",
    "plt.title('Calories Distribution')\n",
    "plt.xlabel('Calories')\n",
    "plt.ylabel('Count')\n",
    "plt.show()\n",
    "\n",
    "\n",
    " "
   ]
  }
 ],
 "metadata": {
  "language_info": {
   "name": "python"
  }
 },
 "nbformat": 4,
 "nbformat_minor": 5
}
