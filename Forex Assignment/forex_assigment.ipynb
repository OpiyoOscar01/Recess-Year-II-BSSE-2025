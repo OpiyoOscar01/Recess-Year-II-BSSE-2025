{
 "cells": [
  {
   "cell_type": "code",
   "execution_count": null,
   "id": "4270b726",
   "metadata": {},
   "outputs": [],
   "source": [
    "import pandas as pd\n",
    "import numpy as np\n",
    "import matplotlib.pyplot as plt\n",
    "import seaborn as sns\n",
    "from datetime import datetime\n",
    "df = pd.read_csv('forex_predictions_data.csv')\n",
    "print(df.head())\n",
    "print(df.isnull())"
   ]
  }
 ],
 "metadata": {
  "language_info": {
   "name": "python"
  }
 },
 "nbformat": 4,
 "nbformat_minor": 5
}
